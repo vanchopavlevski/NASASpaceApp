{
 "cells": [
  {
   "cell_type": "code",
   "execution_count": 1,
   "metadata": {
    "collapsed": true
   },
   "outputs": [],
   "source": [
    "import tensorflow as tf\n",
    "import numpy as np"
   ]
  },
  {
   "cell_type": "code",
   "execution_count": 2,
   "metadata": {
    "collapsed": false
   },
   "outputs": [],
   "source": [
    "class NeuralNetwork:\n",
    "    def __init__(self,learningRate):\n",
    "        self.X=None\n",
    "        self.Y=None\n",
    "        self.keep_prob=None\n",
    "        self.Y_Output=None\n",
    "        self.current_input=None\n",
    "        self.cost=None\n",
    "        self.learningRate=learningRate\n",
    "        self.optimizer=None\n",
    "        self.Sess=None\n",
    "        self.objSaver = None\n",
    "        \n",
    "    def AddInputLayer(self,imageWidth,imageHeight,outputClasses):\n",
    "        self.X = tf.placeholder(tf.float32,shape=[None,imageWidth,imageHeight,3],name='X')\n",
    "        self.Y = tf.placeholder(tf.float32,shape=[None,outputClasses],name='Y')\n",
    "        self.keep_prob=tf.placeholder(tf.float32,name='Keep_Prob')\n",
    "        self.current_input = self.X\n",
    "\n",
    "    def AddConvolutionLayer(self,layerName,filterSize,outputChannels,strides):\n",
    "        with tf.variable_scope(\"Encoder/ConvolutionLayer/{0}\".format(layerName)):\n",
    "            n_input = self.current_input.get_shape().as_list()[3]\n",
    "\n",
    "            W = tf.get_variable(name='W',shape=[filterSize,filterSize,n_input,outputChannels],\n",
    "                                initializer=tf.random_normal_initializer(mean=0.0,stddev=0.01))\n",
    "            B = tf.get_variable(name='B',shape=[outputChannels],\n",
    "                                initializer=tf.constant_initializer(0.01))\n",
    "            h = tf.nn.conv2d(self.current_input,W,strides=[1,strides,strides,1],padding='VALID')\n",
    "            \n",
    "            self.current_input = tf.nn.relu(tf.nn.bias_add(h,B))\n",
    "    \n",
    "    def AddDropOut(self):\n",
    "        self.current_input = tf.nn.dropout(self.current_input,self.keep_prob)\n",
    "    \n",
    "    def AddFlattenLayer(self,layerName):\n",
    "        with tf.variable_scope(\"Encoder/FlattenLayer/{0}\".format(layerName)):\n",
    "            shapeList = self.current_input.get_shape().as_list()\n",
    "            finalShape = shapeList[1] * shapeList[2] * shapeList[3]\n",
    "            self.current_input = tf.reshape(self.current_input,shape=[-1,finalShape])\n",
    "    \n",
    "    def AddDenseLayer(self,layerName,nInputNeurons,nOutputNeurons,activationFunction):\n",
    "        with tf.variable_scope(layerName):\n",
    "            W1 = tf.get_variable(name='W_dense',shape=[nInputNeurons,nOutputNeurons],\n",
    "                            initializer=tf.random_normal_initializer(mean=0.0,stddev=0.01))\n",
    "            b1 = tf.get_variable('B_dense',shape=[nOutputNeurons],initializer=tf.constant_initializer(0.01))\n",
    "            h1 = tf.nn.bias_add(tf.matmul(self.current_input,W1),b1)\n",
    "            \n",
    "            self.current_input = activationFunction(h1)\n",
    "    \n",
    "    def MSE(self):\n",
    "        self.Y_Output=self.current_input\n",
    "        self.cost = tf.reduce_mean(tf.reduce_mean(tf.squared_difference(self.Y,self.Y_Output),1))\n",
    "    \n",
    "    def CrossEntropy(self):\n",
    "        self.Y_Output=self.current_input\n",
    "        self.cost = tf.reduce_mean(-tf.reduce_sum(self.Y * tf.log(tf.clip_by_value(self.Y_Output,1e-10,1.0)), reduction_indices=[1]))\n",
    "        \n",
    "    def Compile(self,optimizerName):\n",
    "        if optimizerName=='Adam':\n",
    "            self.optimizer = tf.train.AdamOptimizer(learning_rate=self.learningRate).minimize(self.cost)\n",
    "        else:\n",
    "            raise ValueError('Optimizer function is not found!')\n",
    "        self.Sess = tf.Session()\n",
    "        self.Sess.run(tf.global_variables_initializer())\n",
    "        \n",
    "    def Train(self,input_data,output_data,keep_prob):\n",
    "        self.Sess.run(self.optimizer,feed_dict={self.X:input_data,self.Y:output_data,self.keep_prob:keep_prob})\n",
    "        error = self.Sess.run(self.cost,feed_dict={self.X:input_data,self.Y:output_data,self.keep_prob:keep_prob})\n",
    "        return error\n",
    "    \n",
    "    def SaveModel(self,saveFilePath):\n",
    "        objSaver = tf.train.Saver()\n",
    "        save_path = objSaver.save(self.Sess, saveFilePath)\n",
    "        print(\"Model saved in file: %s\" % save_path)\n",
    "    \n",
    "    def LoadModel(self,modelFilePath):\n",
    "        if self.Sess==None:\n",
    "            self.Sess = tf.Session()\n",
    "            self.Sess.run(tf.global_variables_initializer())\n",
    "        objSaver = tf.train.Saver()\n",
    "        objSaver.restore(self.Sess, modelFilePath)\n",
    "\n",
    "    def Predict(self,input_data,roundVector=True):\n",
    "        result = self.Sess.run(self.Y_Output,feed_dict={self.X:input_data,self.keep_prob:1.0})\n",
    "        if roundVector:\n",
    "            return np.rint(result)\n",
    "        else:\n",
    "            return result"
   ]
  },
  {
   "cell_type": "markdown",
   "metadata": {},
   "source": [
    "objNeuralNetwork = NeuralNetwork(0.01)\n",
    "\n",
    "objNeuralNetwork.AddInputLayer(200,200,3)\n",
    "\n",
    "objNeuralNetwork.AddConvolutionLayer('Layer1',5,5,2)\n",
    "\n",
    "objNeuralNetwork.AddFlattenLayer('Layer2')\n",
    "\n",
    "objNeuralNetwork.AddDenseLayer('Layer3',50000,128,tf.nn.relu)\n",
    "\n",
    "objNeuralNetwork.AddDenseLayer('Layer4',128,64,tf.nn.relu)\n",
    "\n",
    "objNeuralNetwork.AddDenseLayer('Layer5',64,3,tf.nn.relu)\n",
    "\n",
    "objNeuralNetwork.MSE()\n",
    "\n",
    "objNeuralNetwork.Compile('Adam')"
   ]
  },
  {
   "cell_type": "code",
   "execution_count": null,
   "metadata": {
    "collapsed": true
   },
   "outputs": [],
   "source": []
  }
 ],
 "metadata": {
  "kernelspec": {
   "display_name": "Python 3",
   "language": "python",
   "name": "python3"
  },
  "language_info": {
   "codemirror_mode": {
    "name": "ipython",
    "version": 3
   },
   "file_extension": ".py",
   "mimetype": "text/x-python",
   "name": "python",
   "nbconvert_exporter": "python",
   "pygments_lexer": "ipython3",
   "version": "3.5.3"
  }
 },
 "nbformat": 4,
 "nbformat_minor": 2
}
