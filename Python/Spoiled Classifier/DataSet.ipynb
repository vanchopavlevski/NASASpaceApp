{
 "cells": [
  {
   "cell_type": "code",
   "execution_count": 1,
   "metadata": {
    "collapsed": false
   },
   "outputs": [],
   "source": [
    "import numpy as np\n",
    "import tensorflow as tf\n",
    "import pandas\n",
    "import matplotlib.pyplot as plt\n",
    "import h5py\n",
    "from skimage.transform import resize\n",
    "from sys import stdout\n",
    "\n",
    "import matplotlib.pyplot as plt"
   ]
  },
  {
   "cell_type": "code",
   "execution_count": 3,
   "metadata": {
    "collapsed": false
   },
   "outputs": [],
   "source": [
    "class DataSet:\n",
    "    def __init__(self,DataSetFilePathCSV,OutputFile,imageWidth,imageHeight):\n",
    "        self.dataSetFilePath = DataSetFilePathCSV\n",
    "        self.width = imageWidth\n",
    "        self.height= imageHeight\n",
    "        self.rows=None\n",
    "        self.OutputFile = OutputFile\n",
    "        self.maxClass = None\n",
    "        \n",
    "        self.DataFrame = pandas.read_csv(self.dataSetFilePath)\n",
    "        self.maxClass = self.DataFrame[\"Class\"].max()\n",
    "        self.rows = self.DataFrame.shape[0]\n",
    "        \n",
    "        print(self.rows,self.maxClass)\n",
    "    \n",
    "    def CreateHDF5DataSet(self):\n",
    "        with h5py.File(self.OutputFile,'w') as h:\n",
    "            Features = h.create_dataset('Features', (self.rows,self.width,self.height,3),maxshape=(None, self.width,self.height,3), dtype='f')\n",
    "            Labels   = h.create_dataset('Labels', (self.rows,int(self.maxClass)),maxshape=(None, int(self.maxClass)), dtype='f')\n",
    "\n",
    "            count=0\n",
    "            percentCount=0\n",
    "            totalFiles = self.rows\n",
    "            for row in self.DataFrame.iterrows():\n",
    "                filePath = row[1][0]\n",
    "                productClass = row[1][1]\n",
    "\n",
    "                percentDone = (100.0 * (count+1)) / totalFiles\n",
    "\n",
    "                stdout.write(\"\\rProcessing: %s of %s - %s%% - %s\" % ((count+1),totalFiles,round(percentDone,2),filePath))\n",
    "                stdout.flush()\n",
    "\n",
    "                image = plt.imread(filePath)/255\n",
    "                where_are_NaNs = np.isnan(image)\n",
    "                image[where_are_NaNs] = 0\n",
    "                image = resize(image,(self.width,self.height),mode='reflect')\n",
    "\n",
    "                Features[count] = np.array(image)\n",
    "                Labels[count] = self.GetLabel(int(productClass))\n",
    "                print(\"Labela: {0}\".format(self.GetLabel(int(productClass))))\n",
    "                count+=1\n",
    "    \n",
    "    def GetLabel(self,intNumberClass):\n",
    "        result_array = [0] * self.maxClass\n",
    "        result_array[intNumberClass-1]=1\n",
    "        #result_array = np.reshape(result_array,[1,self.maxClass])\n",
    "        return result_array\n",
    "    \n",
    "    def GetSample(self,sampleIndex):\n",
    "        with h5py.File(self.OutputFile,'r') as h:\n",
    "            Features = h.get('Features')\n",
    "            Labels = h.get('Labels')\n",
    "            return np.array(Features[sampleIndex]),np.array(Labels[sampleIndex])\n",
    "\n",
    "    def GenerateTrainingData(self,batchSize):\n",
    "        with h5py.File(self.OutputFile,'r') as h:\n",
    "            Features = h.get('Features')\n",
    "            Labels = h.get('Labels')\n",
    "            \n",
    "            rand_idx = np.random.permutation(self.rows)\n",
    "            number_of_batches = self.rows//batchSize\n",
    "            for batch_i in range(number_of_batches):\n",
    "                idxs_i = rand_idx[batch_i * batchSize: (batch_i + 1) * batchSize]\n",
    "                \n",
    "                Features_List = []\n",
    "                Labels_List = []\n",
    "                \n",
    "                for element in idxs_i:\n",
    "                    Features_List.append(Features[element])\n",
    "                    Labels_List.append(Labels[element])\n",
    "                    #plt.imshow(Features[element])\n",
    "                    #plt.show()\n",
    "                    #print(Labels[element])\n",
    "                    \n",
    "                yield np.array(Features_List),np.array(Labels_List)\n",
    "    \n",
    "    def GetClass(self,)"
   ]
  },
  {
   "cell_type": "markdown",
   "metadata": {},
   "source": [
    "objDataSet = DataSet(\"DataSet.csv\",200,200)\n",
    "objDataSet.CreateHDF5DataSet(\"TrainingSet.hdf5\")"
   ]
  },
  {
   "cell_type": "markdown",
   "metadata": {},
   "source": [
    "objDataSet = DataSet('DataSet.csv',200,200)\n",
    "objDataSet.CreateHDF5DataSet('Test.hdf5')"
   ]
  },
  {
   "cell_type": "code",
   "execution_count": null,
   "metadata": {
    "collapsed": true
   },
   "outputs": [],
   "source": []
  }
 ],
 "metadata": {
  "kernelspec": {
   "display_name": "Python 3",
   "language": "python",
   "name": "python3"
  },
  "language_info": {
   "codemirror_mode": {
    "name": "ipython",
    "version": 3
   },
   "file_extension": ".py",
   "mimetype": "text/x-python",
   "name": "python",
   "nbconvert_exporter": "python",
   "pygments_lexer": "ipython3",
   "version": "3.5.3"
  }
 },
 "nbformat": 4,
 "nbformat_minor": 2
}
