{
 "cells": [
  {
   "cell_type": "code",
   "execution_count": 1,
   "metadata": {
    "collapsed": true
   },
   "outputs": [],
   "source": [
    "import DataSet\n",
    "import NeuralNetwork\n",
    "import tensorflow as tf\n",
    "import matplotlib.pyplot as plt\n",
    "import numpy as np"
   ]
  },
  {
   "cell_type": "code",
   "execution_count": 2,
   "metadata": {
    "collapsed": false
   },
   "outputs": [
    {
     "name": "stdout",
     "output_type": "stream",
     "text": [
      "32 2\n",
      "Processing: 1 of 32 - 3.12% - Data\\spoiled_1.jpgLabela: [1, 0]\n",
      "Processing: 2 of 32 - 6.25% - Data\\spoiled_2.jpgLabela: [1, 0]\n",
      "Processing: 3 of 32 - 9.38% - Data\\spoiled_3.jpgLabela: [1, 0]\n",
      "Processing: 4 of 32 - 12.5% - Data\\spoiled_4.jpgLabela: [1, 0]\n",
      "Processing: 5 of 32 - 15.62% - Data\\spoiled_5.jpgLabela: [1, 0]\n",
      "Processing: 6 of 32 - 18.75% - Data\\spoiled_6.jpgLabela: [1, 0]\n",
      "Processing: 7 of 32 - 21.88% - Data\\spoiled_7.jpgLabela: [1, 0]\n",
      "Processing: 8 of 32 - 25.0% - Data\\spoiled_8.jpgLabela: [1, 0]\n",
      "Processing: 9 of 32 - 28.12% - Data\\spoiled_9.jpgLabela: [1, 0]\n",
      "Processing: 10 of 32 - 31.25% - Data\\spoiled_10.jpgLabela: [1, 0]\n",
      "Processing: 11 of 32 - 34.38% - Data\\spoiled_11.jpgLabela: [1, 0]\n",
      "Processing: 12 of 32 - 37.5% - Data\\spoiled_12.jpgLabela: [1, 0]\n",
      "Processing: 13 of 32 - 40.62% - Data\\spoiled_13.jpgLabela: [1, 0]\n",
      "Processing: 14 of 32 - 43.75% - Data\\spoiled_14.jpgLabela: [1, 0]\n",
      "Processing: 15 of 32 - 46.88% - Data\\spoiled_15.jpgLabela: [1, 0]\n",
      "Processing: 16 of 32 - 50.0% - Data\\spoiled_16.jpgLabela: [1, 0]\n",
      "Processing: 17 of 32 - 53.12% - Data\\fresh_1.jpgLabela: [0, 1]\n",
      "Processing: 18 of 32 - 56.25% - Data\\fresh_2.jpgLabela: [0, 1]\n",
      "Processing: 19 of 32 - 59.38% - Data\\fresh_3.jpgLabela: [0, 1]\n",
      "Processing: 20 of 32 - 62.5% - Data\\fresh_4.jpgLabela: [0, 1]\n",
      "Processing: 21 of 32 - 65.62% - Data\\fresh_5.jpgLabela: [0, 1]\n",
      "Processing: 22 of 32 - 68.75% - Data\\fresh_6.jpgLabela: [0, 1]\n",
      "Processing: 23 of 32 - 71.88% - Data\\fresh_7.jpgLabela: [0, 1]\n",
      "Processing: 24 of 32 - 75.0% - Data\\fresh_8.jpgLabela: [0, 1]\n",
      "Processing: 25 of 32 - 78.12% - Data\\fresh_9.jpgLabela: [0, 1]\n",
      "Processing: 26 of 32 - 81.25% - Data\\fresh_10.jpgLabela: [0, 1]\n",
      "Processing: 27 of 32 - 84.38% - Data\\fresh_11.jpgLabela: [0, 1]\n",
      "Processing: 28 of 32 - 87.5% - Data\\fresh_12.jpgLabela: [0, 1]\n",
      "Processing: 29 of 32 - 90.62% - Data\\fresh_13.jpgLabela: [0, 1]\n",
      "Processing: 30 of 32 - 93.75% - Data\\fresh_14.jpgLabela: [0, 1]\n",
      "Processing: 31 of 32 - 96.88% - Data\\fresh_15.jpgLabela: [0, 1]\n",
      "Processing: 32 of 32 - 100.0% - Data\\fresh_16.jpgLabela: [0, 1]\n"
     ]
    }
   ],
   "source": [
    "objDataSet = DataSet.DataSet('DataSet.csv','TrainingSet.hdf5',100,100)\n",
    "objDataSet.CreateHDF5DataSet()"
   ]
  },
  {
   "cell_type": "code",
   "execution_count": 3,
   "metadata": {
    "collapsed": false
   },
   "outputs": [],
   "source": [
    "objNeuralNetwork = NeuralNetwork.NeuralNetwork(0.0001)\n",
    "objNeuralNetwork.AddInputLayer(100,100,2)\n",
    "objNeuralNetwork.AddConvolutionLayer('ConvolutionLayer1',5,32,2)\n",
    "objNeuralNetwork.AddConvolutionLayer('ConvolutionLayer2',5,16,2)\n",
    "objNeuralNetwork.AddConvolutionLayer('ConvolutionLayer3',5,8,2)\n",
    "#objNeuralNetwork.AddConvolutionLayer('ConvolutionLayer3',5,4,2)\n",
    "objNeuralNetwork.AddFlattenLayer('FlattenLayer3')"
   ]
  },
  {
   "cell_type": "code",
   "execution_count": 4,
   "metadata": {
    "collapsed": false
   },
   "outputs": [
    {
     "data": {
      "text/plain": [
       "TensorShape([Dimension(None), Dimension(648)])"
      ]
     },
     "execution_count": 4,
     "metadata": {},
     "output_type": "execute_result"
    }
   ],
   "source": [
    "objNeuralNetwork.current_input.get_shape()"
   ]
  },
  {
   "cell_type": "code",
   "execution_count": 5,
   "metadata": {
    "collapsed": false
   },
   "outputs": [],
   "source": [
    "#objNeuralNetwork.AddDenseLayer('DenseLayer1',2048,1024,tf.nn.relu)\n",
    "objNeuralNetwork.AddDenseLayer('DenseLayer2',648,512,tf.nn.relu)\n",
    "objNeuralNetwork.AddDenseLayer('DenseLayer3',512,128,tf.nn.relu)\n",
    "objNeuralNetwork.AddDenseLayer('DenseLayer4',128,32,tf.nn.relu)\n",
    "objNeuralNetwork.AddDenseLayer('DenseLayer5',32,2,tf.nn.softmax)\n",
    "objNeuralNetwork.CrossEntropy()\n",
    "objNeuralNetwork.Compile('Adam')"
   ]
  },
  {
   "cell_type": "code",
   "execution_count": 6,
   "metadata": {
    "collapsed": false
   },
   "outputs": [
    {
     "name": "stdout",
     "output_type": "stream",
     "text": [
      "Epoch: 1 - Error: 0.02166084758937359\n",
      "Epoch: 2 - Error: 0.02166084572672844\n",
      "Epoch: 3 - Error: 0.02166084572672844\n",
      "Epoch: 4 - Error: 0.02166084386408329\n",
      "Epoch: 5 - Error: 0.02166084200143814\n",
      "Epoch: 6 - Error: 0.021660838276147842\n",
      "Epoch: 7 - Error: 0.021660834550857544\n",
      "Epoch: 8 - Error: 0.021660832688212395\n",
      "Epoch: 9 - Error: 0.021660827100276947\n",
      "Epoch: 10 - Error: 0.02166082337498665\n",
      "Epoch: 11 - Error: 0.02166081592440605\n",
      "Epoch: 12 - Error: 0.021660806611180305\n",
      "Epoch: 13 - Error: 0.02166079543530941\n",
      "Epoch: 14 - Error: 0.021660780534148216\n",
      "Epoch: 15 - Error: 0.021660763770341873\n",
      "Epoch: 16 - Error: 0.021660739555954933\n",
      "Epoch: 17 - Error: 0.021660709753632545\n",
      "Epoch: 18 - Error: 0.02166067063808441\n",
      "Epoch: 19 - Error: 0.02166062593460083\n",
      "Epoch: 20 - Error: 0.021660562604665756\n",
      "Epoch: 21 - Error: 0.02166048064827919\n",
      "Epoch: 22 - Error: 0.021660376340150833\n",
      "Epoch: 23 - Error: 0.02166024036705494\n",
      "Epoch: 24 - Error: 0.02166006527841091\n",
      "Epoch: 25 - Error: 0.021659836173057556\n",
      "Epoch: 26 - Error: 0.021659526973962784\n",
      "Epoch: 27 - Error: 0.021659135818481445\n",
      "Epoch: 28 - Error: 0.021658625453710556\n",
      "Epoch: 29 - Error: 0.021657977253198624\n",
      "Epoch: 30 - Error: 0.021657146513462067\n",
      "Epoch: 31 - Error: 0.0216560959815979\n",
      "Epoch: 32 - Error: 0.021654758602380753\n",
      "Epoch: 33 - Error: 0.021653050556778908\n",
      "Epoch: 34 - Error: 0.021650884300470352\n",
      "Epoch: 35 - Error: 0.021648213267326355\n",
      "Epoch: 36 - Error: 0.021644920110702515\n",
      "Epoch: 37 - Error: 0.021640794351696968\n",
      "Epoch: 38 - Error: 0.021635549142956734\n",
      "Epoch: 39 - Error: 0.02162914350628853\n",
      "Epoch: 40 - Error: 0.021621979773044586\n",
      "Epoch: 41 - Error: 0.02161353826522827\n",
      "Epoch: 42 - Error: 0.02160455286502838\n",
      "Epoch: 43 - Error: 0.021595444530248642\n",
      "Epoch: 44 - Error: 0.02158522605895996\n",
      "Epoch: 45 - Error: 0.02157580852508545\n",
      "Epoch: 46 - Error: 0.02156437560915947\n",
      "Epoch: 47 - Error: 0.02155223861336708\n",
      "Epoch: 48 - Error: 0.021540045738220215\n",
      "Epoch: 49 - Error: 0.021525107324123383\n",
      "Epoch: 50 - Error: 0.021507464349269867\n",
      "Epoch: 51 - Error: 0.021487927064299583\n",
      "Epoch: 52 - Error: 0.021463796496391296\n",
      "Epoch: 53 - Error: 0.021435070782899857\n",
      "Epoch: 54 - Error: 0.02140141651034355\n",
      "Epoch: 55 - Error: 0.021359868347644806\n",
      "Epoch: 56 - Error: 0.021309932693839073\n",
      "Epoch: 57 - Error: 0.021249737590551376\n",
      "Epoch: 58 - Error: 0.021176530048251152\n",
      "Epoch: 59 - Error: 0.021087558940052986\n",
      "Epoch: 60 - Error: 0.020978853106498718\n",
      "Epoch: 61 - Error: 0.020846176892518997\n",
      "Epoch: 62 - Error: 0.02068512700498104\n",
      "Epoch: 63 - Error: 0.020489372313022614\n",
      "Epoch: 64 - Error: 0.020253080874681473\n",
      "Epoch: 65 - Error: 0.019968945533037186\n",
      "Epoch: 66 - Error: 0.019629191607236862\n",
      "Epoch: 67 - Error: 0.019225819036364555\n",
      "Epoch: 68 - Error: 0.018755551427602768\n",
      "Epoch: 69 - Error: 0.018241796642541885\n",
      "Epoch: 70 - Error: 0.017742106691002846\n",
      "Epoch: 71 - Error: 0.017089959233999252\n",
      "Epoch: 72 - Error: 0.016494356095790863\n",
      "Epoch: 73 - Error: 0.015749869868159294\n",
      "Epoch: 74 - Error: 0.015007947571575642\n",
      "Epoch: 75 - Error: 0.014133634977042675\n",
      "Epoch: 76 - Error: 0.013241338543593884\n",
      "Epoch: 77 - Error: 0.012244628742337227\n",
      "Epoch: 78 - Error: 0.011217234656214714\n",
      "Epoch: 79 - Error: 0.010122888721525669\n",
      "Epoch: 80 - Error: 0.009010601788759232\n",
      "Epoch: 81 - Error: 0.007905818521976471\n",
      "Epoch: 82 - Error: 0.006790728308260441\n",
      "Epoch: 83 - Error: 0.005761764477938414\n",
      "Epoch: 84 - Error: 0.004802299663424492\n",
      "Epoch: 85 - Error: 0.00389728881418705\n",
      "Epoch: 86 - Error: 0.003139331005513668\n",
      "Epoch: 87 - Error: 0.0025237631052732468\n",
      "Epoch: 88 - Error: 0.0019446676596999168\n",
      "Epoch: 89 - Error: 0.0014919610694050789\n",
      "Epoch: 90 - Error: 0.0011688051745295525\n",
      "Epoch: 91 - Error: 0.000869469833560288\n",
      "Epoch: 92 - Error: 0.0006711448077112436\n",
      "Epoch: 93 - Error: 0.0005008112057112157\n",
      "Epoch: 94 - Error: 0.00038769221282564104\n",
      "Epoch: 95 - Error: 0.00028813161770813167\n",
      "Epoch: 96 - Error: 0.00022742681903764606\n",
      "Epoch: 97 - Error: 0.00017304776702076197\n",
      "Epoch: 98 - Error: 0.0001335524138994515\n",
      "Epoch: 99 - Error: 0.0001083342867786996\n",
      "Epoch: 100 - Error: 8.582403825130314e-05\n",
      "Epoch: 101 - Error: 6.746747385477647e-05\n",
      "Epoch: 102 - Error: 5.556297401199117e-05\n",
      "Epoch: 103 - Error: 4.708913911599666e-05\n",
      "Epoch: 104 - Error: 3.9237063901964575e-05\n",
      "Epoch: 105 - Error: 3.237799683120102e-05\n",
      "Epoch: 106 - Error: 2.738856892392505e-05\n",
      "Epoch: 107 - Error: 2.399628283455968e-05\n",
      "Epoch: 108 - Error: 2.135831891791895e-05\n",
      "Epoch: 109 - Error: 1.8931708837044425e-05\n",
      "Epoch: 110 - Error: 1.6657329979352653e-05\n",
      "Epoch: 111 - Error: 1.470743245590711e-05\n",
      "Epoch: 112 - Error: 1.3201610272517428e-05\n",
      "Epoch: 113 - Error: 1.2089721167285461e-05\n",
      "Epoch: 114 - Error: 1.1233902114327066e-05\n",
      "Epoch: 115 - Error: 1.0494961315998808e-05\n",
      "Epoch: 116 - Error: 9.796887752600014e-06\n",
      "Epoch: 117 - Error: 9.127286830334924e-06\n",
      "Epoch: 118 - Error: 8.512279237038456e-06\n",
      "Epoch: 119 - Error: 7.982371243997477e-06\n",
      "Epoch: 120 - Error: 7.5508801273826975e-06\n",
      "Epoch: 121 - Error: 7.20700882084202e-06\n",
      "Epoch: 122 - Error: 6.929689789103577e-06\n",
      "Epoch: 123 - Error: 6.6909824454342015e-06\n",
      "Epoch: 124 - Error: 6.470528205682058e-06\n",
      "Epoch: 125 - Error: 6.256606866372749e-06\n",
      "Epoch: 126 - Error: 6.048750947229564e-06\n",
      "Epoch: 127 - Error: 5.852671620232286e-06\n",
      "Epoch: 128 - Error: 5.676934961229563e-06\n",
      "Epoch: 129 - Error: 5.523930212802952e-06\n",
      "Epoch: 130 - Error: 5.394644176703878e-06\n",
      "Epoch: 131 - Error: 5.2867981139570475e-06\n",
      "Epoch: 132 - Error: 5.193222932575736e-06\n",
      "Epoch: 133 - Error: 5.108840923639946e-06\n",
      "Epoch: 134 - Error: 5.028525265515782e-06\n",
      "Epoch: 135 - Error: 4.949828053213423e-06\n",
      "Epoch: 136 - Error: 4.872692443314008e-06\n",
      "Epoch: 137 - Error: 4.799511316377902e-06\n",
      "Epoch: 138 - Error: 4.730522050522268e-06\n",
      "Epoch: 139 - Error: 4.667883331421763e-06\n",
      "Epoch: 140 - Error: 4.6123541324050166e-06\n",
      "Epoch: 141 - Error: 4.5639940253749955e-06\n",
      "Epoch: 142 - Error: 4.520240509009454e-06\n",
      "Epoch: 143 - Error: 4.4802191041526385e-06\n",
      "Epoch: 144 - Error: 4.4417156459530815e-06\n",
      "Epoch: 145 - Error: 4.404611900099553e-06\n",
      "Epoch: 146 - Error: 4.367627752799308e-06\n",
      "Epoch: 147 - Error: 4.331169748184038e-06\n",
      "Epoch: 148 - Error: 4.295820872357581e-06\n",
      "Epoch: 149 - Error: 4.262977199687157e-06\n",
      "Epoch: 150 - Error: 4.232231731293723e-06\n",
      "Epoch: 151 - Error: 4.203233856969746e-06\n",
      "Epoch: 152 - Error: 4.176740731054451e-06\n",
      "Epoch: 153 - Error: 4.150829227000941e-06\n",
      "Epoch: 154 - Error: 4.127128249820089e-06\n",
      "Epoch: 155 - Error: 4.1031339605979156e-06\n",
      "Epoch: 156 - Error: 4.079429345438257e-06\n",
      "Epoch: 157 - Error: 4.056130364915589e-06\n",
      "Epoch: 158 - Error: 4.0333538890990894e-06\n",
      "Epoch: 159 - Error: 4.01110082748346e-06\n",
      "Epoch: 160 - Error: 3.988556272815913e-06\n",
      "Epoch: 161 - Error: 3.967991688114125e-06\n",
      "Epoch: 162 - Error: 3.94777725887252e-06\n",
      "Epoch: 163 - Error: 3.928379555873107e-06\n",
      "Epoch: 164 - Error: 3.9090405152819585e-06\n",
      "Epoch: 165 - Error: 3.890052084898343e-06\n",
      "Epoch: 166 - Error: 3.871705303026829e-06\n",
      "Epoch: 167 - Error: 3.853417183563579e-06\n",
      "Epoch: 168 - Error: 3.8351304283423815e-06\n",
      "Epoch: 169 - Error: 3.817018750851275e-06\n",
      "Epoch: 170 - Error: 3.799198793785763e-06\n",
      "Epoch: 171 - Error: 3.7816121221112553e-06\n",
      "Epoch: 172 - Error: 3.7640259051840985e-06\n",
      "Epoch: 173 - Error: 3.74707997252699e-06\n",
      "Epoch: 174 - Error: 3.7304250781744486e-06\n",
      "Epoch: 175 - Error: 3.7136533137527294e-06\n",
      "Epoch: 176 - Error: 3.6971139252273133e-06\n",
      "Epoch: 177 - Error: 3.6809235552937025e-06\n",
      "Epoch: 178 - Error: 3.6647325032390654e-06\n",
      "Epoch: 179 - Error: 3.6486574117589043e-06\n",
      "Epoch: 180 - Error: 3.632990001278813e-06\n",
      "Epoch: 181 - Error: 3.6166238714940846e-06\n",
      "Epoch: 182 - Error: 3.6010139865538804e-06\n",
      "Epoch: 183 - Error: 3.5853463487001136e-06\n",
      "Epoch: 184 - Error: 3.5699695217772387e-06\n",
      "Epoch: 185 - Error: 3.5545940590964165e-06\n",
      "Epoch: 186 - Error: 3.539335011737421e-06\n",
      "Epoch: 187 - Error: 3.523959549056599e-06\n",
      "Epoch: 188 - Error: 3.508991994749522e-06\n",
      "Epoch: 189 - Error: 3.4938504995807307e-06\n",
      "Epoch: 190 - Error: 3.4791746656992473e-06\n",
      "Epoch: 191 - Error: 3.4643826438696124e-06\n",
      "Epoch: 192 - Error: 3.4494742067181505e-06\n",
      "Epoch: 193 - Error: 3.434508016653126e-06\n",
      "Epoch: 194 - Error: 3.420298753553652e-06\n",
      "Epoch: 195 - Error: 3.4057397897413466e-06\n",
      "Epoch: 196 - Error: 3.391530071894522e-06\n",
      "Epoch: 197 - Error: 3.37720393872587e-06\n",
      "Epoch: 198 - Error: 3.3628778055572184e-06\n",
      "Epoch: 199 - Error: 3.348842710693134e-06\n",
      "Epoch: 200 - Error: 3.3347489534207853e-06\n",
      "Epoch: 201 - Error: 3.3210044421139173e-06\n",
      "Epoch: 202 - Error: 3.307027327537071e-06\n",
      "Epoch: 203 - Error: 3.2929337976383977e-06\n",
      "Epoch: 204 - Error: 3.2790148907224648e-06\n",
      "Epoch: 205 - Error: 3.265503892180277e-06\n",
      "Epoch: 206 - Error: 3.2517011732124956e-06\n",
      "Epoch: 207 - Error: 3.2381904020439833e-06\n",
      "Epoch: 208 - Error: 3.2247958188236225e-06\n",
      "Epoch: 209 - Error: 3.211168404959608e-06\n",
      "Epoch: 210 - Error: 3.198007107130252e-06\n",
      "Epoch: 211 - Error: 3.184496563335415e-06\n",
      "Epoch: 212 - Error: 3.1712190775579074e-06\n",
      "Epoch: 213 - Error: 3.1579415917804e-06\n",
      "Epoch: 214 - Error: 3.145071787002962e-06\n",
      "Epoch: 215 - Error: 3.131910489173606e-06\n",
      "Epoch: 216 - Error: 3.1185170428216225e-06\n",
      "Epoch: 217 - Error: 3.1061128993314924e-06\n",
      "Epoch: 218 - Error: 3.093417717536795e-06\n",
      "Epoch: 219 - Error: 3.0803732897766167e-06\n",
      "Epoch: 220 - Error: 3.0673288620164385e-06\n",
      "Epoch: 221 - Error: 3.055332399526378e-06\n",
      "Epoch: 222 - Error: 3.0422879717662e-06\n",
      "Epoch: 223 - Error: 3.0295927899715025e-06\n",
      "Epoch: 224 - Error: 3.017363269464113e-06\n",
      "Epoch: 225 - Error: 3.0054252420086414e-06\n",
      "Epoch: 226 - Error: 2.9927302875876194e-06\n",
      "Epoch: 227 - Error: 2.9803845791320782e-06\n",
      "Epoch: 228 - Error: 2.9683883440156933e-06\n",
      "Epoch: 229 - Error: 2.956043090307503e-06\n",
      "Epoch: 230 - Error: 2.9442794584610965e-06\n",
      "Epoch: 231 - Error: 2.932225015683798e-06\n",
      "Epoch: 232 - Error: 2.9199964046711102e-06\n",
      "Epoch: 233 - Error: 2.908465830842033e-06\n",
      "Epoch: 234 - Error: 2.896237219829345e-06\n",
      "Epoch: 235 - Error: 2.8846484383393545e-06\n",
      "Epoch: 236 - Error: 2.872768845918472e-06\n",
      "Epoch: 237 - Error: 2.8611220841412432e-06\n",
      "Epoch: 238 - Error: 2.8494753223640146e-06\n",
      "Epoch: 239 - Error: 2.8377123726386344e-06\n",
      "Epoch: 240 - Error: 2.8266481422178913e-06\n",
      "Epoch: 241 - Error: 2.8148849651188357e-06\n",
      "Epoch: 242 - Error: 2.8037043193762656e-06\n",
      "Epoch: 243 - Error: 2.7926400889555225e-06\n",
      "Epoch: 244 - Error: 2.7809935545519693e-06\n",
      "Epoch: 245 - Error: 2.769929324131226e-06\n",
      "Epoch: 246 - Error: 2.758923528745072e-06\n",
      "Epoch: 247 - Error: 2.747510052358848e-06\n",
      "Epoch: 248 - Error: 2.7366208996681962e-06\n",
      "Epoch: 249 - Error: 2.7254404812993016e-06\n",
      "Epoch: 250 - Error: 2.7147257242177147e-06\n",
      "Epoch: 251 - Error: 2.703661721170647e-06\n",
      "Epoch: 252 - Error: 2.6925977181235794e-06\n",
      "Epoch: 253 - Error: 2.6822326617548242e-06\n",
      "Epoch: 254 - Error: 2.6709356006904272e-06\n",
      "Epoch: 255 - Error: 2.6608031475916505e-06\n",
      "Epoch: 256 - Error: 2.6500888452574145e-06\n",
      "Epoch: 257 - Error: 2.639607146193157e-06\n",
      "Epoch: 258 - Error: 2.6288926164852455e-06\n",
      "Epoch: 259 - Error: 2.6188185984210577e-06\n",
      "Epoch: 260 - Error: 2.6084535420523025e-06\n",
      "Epoch: 261 - Error: 2.597972297735396e-06\n",
      "Epoch: 262 - Error: 2.587607468740316e-06\n",
      "Epoch: 263 - Error: 2.577358827693388e-06\n",
      "Epoch: 264 - Error: 2.567576075307443e-06\n",
      "Epoch: 265 - Error: 2.5572694539732765e-06\n",
      "Epoch: 266 - Error: 2.5472538709436776e-06\n",
      "Epoch: 267 - Error: 2.537005457270425e-06\n",
      "Epoch: 268 - Error: 2.5269896468671504e-06\n",
      "Epoch: 269 - Error: 2.5173235371767078e-06\n",
      "Epoch: 270 - Error: 2.5073077267734334e-06\n",
      "Epoch: 271 - Error: 2.4975252017611638e-06\n",
      "Epoch: 272 - Error: 2.4877429041225696e-06\n",
      "Epoch: 273 - Error: 2.4779601517366245e-06\n",
      "Epoch: 274 - Error: 2.468236061758944e-06\n",
      "Epoch: 275 - Error: 2.4589194254076574e-06\n",
      "Epoch: 276 - Error: 2.4492533157172147e-06\n",
      "Epoch: 277 - Error: 2.439587206026772e-06\n",
      "Epoch: 278 - Error: 2.43027034230181e-06\n",
      "Epoch: 279 - Error: 2.420604459985043e-06\n",
      "Epoch: 280 - Error: 2.411520426903735e-06\n",
      "Epoch: 281 - Error: 2.4022037905524485e-06\n",
      "Epoch: 282 - Error: 2.392770738879335e-06\n",
      "Epoch: 283 - Error: 2.383454329901724e-06\n",
      "Epoch: 284 - Error: 2.374370751567767e-06\n",
      "Epoch: 285 - Error: 2.3651705305383075e-06\n",
      "Epoch: 286 - Error: 2.3562033675261773e-06\n",
      "Epoch: 287 - Error: 2.346653900531237e-06\n",
      "Epoch: 288 - Error: 2.33815262618009e-06\n",
      "Epoch: 289 - Error: 2.328894197489717e-06\n",
      "Epoch: 290 - Error: 2.3203347154776566e-06\n",
      "Epoch: 291 - Error: 2.3112511371436995e-06\n",
      "Epoch: 292 - Error: 2.302400389453396e-06\n",
      "Epoch: 293 - Error: 2.293724492119509e-06\n",
      "Epoch: 294 - Error: 2.2847573291073786e-06\n",
      "Epoch: 295 - Error: 2.2764888853998855e-06\n",
      "Epoch: 296 - Error: 2.2675219497614307e-06\n",
      "Epoch: 297 - Error: 2.258904260088457e-06\n",
      "Epoch: 298 - Error: 2.2502867977891583e-06\n",
      "Epoch: 299 - Error: 2.2415526927943574e-06\n",
      "Epoch: 300 - Error: 2.2331678337650374e-06\n",
      "Epoch: 301 - Error: 2.224317540822085e-06\n",
      "Epoch: 302 - Error: 2.2162819277582457e-06\n",
      "Epoch: 303 - Error: 2.207664238085272e-06\n",
      "Epoch: 304 - Error: 2.199512437073281e-06\n",
      "Epoch: 305 - Error: 2.1913606360612903e-06\n",
      "Epoch: 306 - Error: 2.1832088350492995e-06\n",
      "Epoch: 307 - Error: 2.174824203393655e-06\n",
      "Epoch: 308 - Error: 2.166788817703491e-06\n",
      "Epoch: 309 - Error: 2.1587534320133273e-06\n",
      "Epoch: 310 - Error: 2.1506600660359254e-06\n",
      "Epoch: 311 - Error: 2.1425082650239347e-06\n",
      "Epoch: 312 - Error: 2.134472879333771e-06\n",
      "Epoch: 313 - Error: 2.12690338230459e-06\n",
      "Epoch: 314 - Error: 2.1187515812925994e-06\n",
      "Epoch: 315 - Error: 2.1107166503497865e-06\n",
      "Epoch: 316 - Error: 2.102797907355125e-06\n",
      "Epoch: 317 - Error: 2.0949951249349397e-06\n",
      "Epoch: 318 - Error: 2.0875422706012614e-06\n",
      "Epoch: 319 - Error: 2.0798565856239293e-06\n",
      "Epoch: 320 - Error: 2.0717047846119385e-06\n",
      "Epoch: 321 - Error: 2.0641355149564333e-06\n",
      "Epoch: 322 - Error: 2.056799075944582e-06\n",
      "Epoch: 323 - Error: 2.048880105576245e-06\n",
      "Epoch: 324 - Error: 2.041427251242567e-06\n",
      "Epoch: 325 - Error: 2.0340328319434775e-06\n",
      "Epoch: 326 - Error: 2.026463334914297e-06\n",
      "Epoch: 327 - Error: 2.0193597265460994e-06\n",
      "Epoch: 328 - Error: 2.012139702856075e-06\n",
      "Epoch: 329 - Error: 2.0048032638442237e-06\n",
      "Epoch: 330 - Error: 1.997350636884221e-06\n",
      "Epoch: 331 - Error: 1.9896649519068887e-06\n",
      "Epoch: 332 - Error: 1.982794174182345e-06\n",
      "Epoch: 333 - Error: 1.9755161702050827e-06\n",
      "Epoch: 334 - Error: 1.9685289771587122e-06\n",
      "Epoch: 335 - Error: 1.9610763501987094e-06\n",
      "Epoch: 336 - Error: 1.9539729692041874e-06\n",
      "Epoch: 337 - Error: 1.947102191479644e-06\n",
      "Epoch: 338 - Error: 1.940231868502451e-06\n",
      "Epoch: 339 - Error: 1.9331282601342537e-06\n",
      "Epoch: 340 - Error: 1.92590869119158e-06\n",
      "Epoch: 341 - Error: 1.919270971484366e-06\n",
      "Epoch: 342 - Error: 1.912284005811671e-06\n",
      "Epoch: 343 - Error: 1.9050640958084841e-06\n",
      "Epoch: 344 - Error: 1.8981937728312914e-06\n",
      "Epoch: 345 - Error: 1.8913232224804233e-06\n",
      "Epoch: 346 - Error: 1.8845692011382198e-06\n",
      "Epoch: 347 - Error: 1.8778151797960163e-06\n",
      "Epoch: 348 - Error: 1.870828327810159e-06\n",
      "Epoch: 349 - Error: 1.8646564967639279e-06\n",
      "Epoch: 350 - Error: 1.8575532294562436e-06\n",
      "Epoch: 351 - Error: 1.8507993218008778e-06\n",
      "Epoch: 352 - Error: 1.8443945464241551e-06\n",
      "Epoch: 353 - Error: 1.8383392443865887e-06\n",
      "Epoch: 354 - Error: 1.8313522787138936e-06\n",
      "Epoch: 355 - Error: 1.8249477307108464e-06\n",
      "Epoch: 356 - Error: 1.8186594843427883e-06\n",
      "Epoch: 357 - Error: 1.8120221056960872e-06\n",
      "Epoch: 358 - Error: 1.805733973014867e-06\n",
      "Epoch: 359 - Error: 1.799329311324982e-06\n",
      "Epoch: 360 - Error: 1.7928083480001078e-06\n",
      "Epoch: 361 - Error: 1.786927555258444e-06\n",
      "Epoch: 362 - Error: 1.7806394225772237e-06\n",
      "Epoch: 363 - Error: 1.774467818904668e-06\n",
      "Epoch: 364 - Error: 1.7680633845884586e-06\n",
      "Epoch: 365 - Error: 1.7620079688640544e-06\n",
      "Epoch: 366 - Error: 1.7557201772433473e-06\n",
      "Epoch: 367 - Error: 1.7495483461971162e-06\n",
      "Epoch: 368 - Error: 1.7432603272027336e-06\n",
      "Epoch: 369 - Error: 1.7374379694956588e-06\n",
      "Epoch: 370 - Error: 1.7310917428403627e-06\n",
      "Epoch: 371 - Error: 1.7257350464205956e-06\n",
      "Epoch: 372 - Error: 1.719447027426213e-06\n",
      "Epoch: 373 - Error: 1.7137410850409651e-06\n",
      "Epoch: 374 - Error: 1.7076858966902364e-06\n",
      "Epoch: 375 - Error: 1.7016308220263454e-06\n",
      "Epoch: 376 - Error: 1.6959249933279352e-06\n",
      "Epoch: 377 - Error: 1.6897535033422173e-06\n",
      "Epoch: 378 - Error: 1.684280505287461e-06\n",
      "Epoch: 379 - Error: 1.6785746765890508e-06\n",
      "Epoch: 380 - Error: 1.6728686205169652e-06\n",
      "Epoch: 381 - Error: 1.6670466038704035e-06\n",
      "Epoch: 382 - Error: 1.6615737195024849e-06\n",
      "Epoch: 383 - Error: 1.655402229516767e-06\n",
      "Epoch: 384 - Error: 1.649696287131519e-06\n",
      "Epoch: 385 - Error: 1.644572762415919e-06\n",
      "Epoch: 386 - Error: 1.6389834627261735e-06\n",
      "Epoch: 387 - Error: 1.633277747714601e-06\n",
      "Epoch: 388 - Error: 1.6276884480248555e-06\n",
      "Epoch: 389 - Error: 1.622448280613753e-06\n",
      "Epoch: 390 - Error: 1.6166261502803536e-06\n",
      "Epoch: 391 - Error: 1.611153265912435e-06\n",
      "Epoch: 392 - Error: 1.605564193596365e-06\n",
      "Epoch: 393 - Error: 1.600556970515754e-06\n",
      "Epoch: 394 - Error: 1.5952006151565001e-06\n",
      "Epoch: 395 - Error: 1.5898440324235708e-06\n",
      "Epoch: 396 - Error: 1.5844876770643168e-06\n",
      "Epoch: 397 - Error: 1.578898491061409e-06\n",
      "Epoch: 398 - Error: 1.5737748526589712e-06\n",
      "Epoch: 399 - Error: 1.5683604033256415e-06\n",
      "Epoch: 400 - Error: 1.5631204632882145e-06\n",
      "Epoch: 401 - Error: 1.5577641079289606e-06\n",
      "Epoch: 402 - Error: 1.5526404695265228e-06\n",
      "Epoch: 403 - Error: 1.5474006431759335e-06\n",
      "Epoch: 404 - Error: 1.5422772321471712e-06\n",
      "Epoch: 405 - Error: 1.537270122753398e-06\n",
      "Epoch: 406 - Error: 1.5322631270464626e-06\n",
      "Epoch: 407 - Error: 1.5270231870090356e-06\n",
      "Epoch: 408 - Error: 1.522249021945754e-06\n",
      "Epoch: 409 - Error: 1.5168927802733378e-06\n",
      "Epoch: 410 - Error: 1.5121186152100563e-06\n",
      "Epoch: 411 - Error: 1.5071116195031209e-06\n",
      "Epoch: 412 - Error: 1.501755264143867e-06\n",
      "Epoch: 413 - Error: 1.497214043411077e-06\n",
      "Epoch: 414 - Error: 1.4923234630259685e-06\n",
      "Epoch: 415 - Error: 1.4873164673190331e-06\n",
      "Epoch: 416 - Error: 1.4825423022557516e-06\n",
      "Epoch: 417 - Error: 1.4778847798879724e-06\n",
      "Epoch: 418 - Error: 1.472877784181037e-06\n",
      "Epoch: 419 - Error: 1.4681036191177554e-06\n",
      "Epoch: 420 - Error: 1.4628637927671662e-06\n",
      "Epoch: 421 - Error: 1.4580897413907223e-06\n",
      "Epoch: 422 - Error: 1.4534321053361055e-06\n",
      "Epoch: 423 - Error: 1.4491237152469694e-06\n",
      "Epoch: 424 - Error: 1.4443496638705255e-06\n",
      "Epoch: 425 - Error: 1.4393426681635901e-06\n",
      "Epoch: 426 - Error: 1.4349178627526271e-06\n",
      "Epoch: 427 - Error: 1.430493057341664e-06\n",
      "Epoch: 428 - Error: 1.4259518366088741e-06\n",
      "Epoch: 429 - Error: 1.4208286529537872e-06\n",
      "Epoch: 430 - Error: 1.4164038475428242e-06\n",
      "Epoch: 431 - Error: 1.4119790421318612e-06\n",
      "Epoch: 432 - Error: 1.407554350407736e-06\n",
      "Epoch: 433 - Error: 1.403013129674946e-06\n",
      "Epoch: 434 - Error: 1.398122776663513e-06\n",
      "Epoch: 435 - Error: 1.3939308018962038e-06\n",
      "Epoch: 436 - Error: 1.3896225254939054e-06\n",
      "Epoch: 437 - Error: 1.3848484741174616e-06\n",
      "Epoch: 438 - Error: 1.3804237823933363e-06\n",
      "Epoch: 439 - Error: 1.3762319213128649e-06\n",
      "Epoch: 440 - Error: 1.3718072295887396e-06\n",
      "Epoch: 441 - Error: 1.367848199151922e-06\n",
      "Epoch: 442 - Error: 1.3634235074277967e-06\n",
      "Epoch: 443 - Error: 1.3592899676950765e-06\n",
      "Epoch: 444 - Error: 1.354748974335962e-06\n",
      "Epoch: 445 - Error: 1.3504404705599882e-06\n",
      "Epoch: 446 - Error: 1.3463652521750191e-06\n",
      "Epoch: 447 - Error: 1.3418241451290669e-06\n",
      "Epoch: 448 - Error: 1.3377488130572601e-06\n",
      "Epoch: 449 - Error: 1.333673253611778e-06\n",
      "Epoch: 450 - Error: 1.329248789261328e-06\n",
      "Epoch: 451 - Error: 1.3251732298158458e-06\n",
      "Epoch: 452 - Error: 1.3211562190917903e-06\n",
      "Epoch: 453 - Error: 1.3170808870199835e-06\n",
      "Epoch: 454 - Error: 1.313121856583166e-06\n",
      "Epoch: 455 - Error: 1.30893022287637e-06\n",
      "Epoch: 456 - Error: 1.3048547771177255e-06\n",
      "Epoch: 457 - Error: 1.3006631434109295e-06\n",
      "Epoch: 458 - Error: 1.2968205282959389e-06\n",
      "Epoch: 459 - Error: 1.2926287809023052e-06\n",
      "Epoch: 460 - Error: 1.2887862794741523e-06\n",
      "Epoch: 461 - Error: 1.2847109474023455e-06\n",
      "Epoch: 462 - Error: 1.2807520306523656e-06\n",
      "Epoch: 463 - Error: 1.2769096429110505e-06\n",
      "Epoch: 464 - Error: 1.2728343108392437e-06\n",
      "Epoch: 465 - Error: 1.2688753940892639e-06\n",
      "Epoch: 466 - Error: 1.2648001757042948e-06\n",
      "Epoch: 467 - Error: 1.2614234492502874e-06\n",
      "Epoch: 468 - Error: 1.257231588169816e-06\n",
      "Epoch: 469 - Error: 1.252923539141193e-06\n",
      "Epoch: 470 - Error: 1.2493142094172072e-06\n",
      "Epoch: 471 - Error: 1.2453550652935519e-06\n",
      "Epoch: 472 - Error: 1.2415127912390744e-06\n",
      "Epoch: 473 - Error: 1.2381359510982293e-06\n",
      "Epoch: 474 - Error: 1.2342934496700764e-06\n",
      "Epoch: 475 - Error: 1.2305675909374258e-06\n",
      "Epoch: 476 - Error: 1.226725089509273e-06\n",
      "Epoch: 477 - Error: 1.2231156460984494e-06\n",
      "Epoch: 478 - Error: 1.2193895599921234e-06\n",
      "Epoch: 479 - Error: 1.2154307569289813e-06\n",
      "Epoch: 480 - Error: 1.2120540304749738e-06\n",
      "Epoch: 481 - Error: 1.2084444733773125e-06\n",
      "Epoch: 482 - Error: 1.2047185009578243e-06\n",
      "Epoch: 483 - Error: 1.2008761132165091e-06\n",
      "Epoch: 484 - Error: 1.1976159157711663e-06\n",
      "Epoch: 485 - Error: 1.194006358673505e-06\n",
      "Epoch: 486 - Error: 1.1905133305845084e-06\n",
      "Epoch: 487 - Error: 1.1865545275213663e-06\n",
      "Epoch: 488 - Error: 1.182828555101878e-06\n",
      "Epoch: 489 - Error: 1.1794518286478706e-06\n",
      "Epoch: 490 - Error: 1.1756094409065554e-06\n",
      "Epoch: 491 - Error: 1.1723491297743749e-06\n",
      "Epoch: 492 - Error: 1.169088932329032e-06\n",
      "Epoch: 493 - Error: 1.1655959042400355e-06\n",
      "Epoch: 494 - Error: 1.1624521221165196e-06\n",
      "Epoch: 495 - Error: 1.1588425650188583e-06\n",
      "Epoch: 496 - Error: 1.1551167062862078e-06\n",
      "Epoch: 497 - Error: 1.151972924162692e-06\n",
      "Epoch: 498 - Error: 1.1483634807518683e-06\n",
      "Epoch: 499 - Error: 1.1451031696196878e-06\n",
      "Epoch: 500 - Error: 1.1416100278438535e-06\n"
     ]
    }
   ],
   "source": [
    "batch_size = 32\n",
    "number_epochs = 500\n",
    "for i in range(number_epochs):\n",
    "    error_g = 0\n",
    "    for item in objDataSet.GenerateTrainingData(batch_size):\n",
    "        input_vector = item[0]\n",
    "        output_vector= item[1]\n",
    "        \n",
    "        error = objNeuralNetwork.Train(input_vector,output_vector)\n",
    "        error_g += error\n",
    "        \n",
    "    error_g = error_g/batch_size\n",
    "    print(\"Epoch: {0} - Error: {1}\".format(i+1,error_g))"
   ]
  },
  {
   "cell_type": "code",
   "execution_count": 7,
   "metadata": {
    "collapsed": false
   },
   "outputs": [
    {
     "name": "stdout",
     "output_type": "stream",
     "text": [
      "Model saved in file: tmp/model.ckpt\n"
     ]
    }
   ],
   "source": [
    "objNeuralNetwork.SaveModel(\"tmp/model.ckpt\")"
   ]
  },
  {
   "cell_type": "code",
   "execution_count": 8,
   "metadata": {
    "collapsed": true
   },
   "outputs": [],
   "source": [
    "objNeuralNetwork.LoadModel(\"tmp/model.ckpt\")"
   ]
  },
  {
   "cell_type": "code",
   "execution_count": 10,
   "metadata": {
    "collapsed": false
   },
   "outputs": [],
   "source": [
    "test_input,test_class = objDataSet.GetSample(31)"
   ]
  },
  {
   "cell_type": "code",
   "execution_count": 11,
   "metadata": {
    "collapsed": false
   },
   "outputs": [],
   "source": [
    "import numpy as np"
   ]
  },
  {
   "cell_type": "code",
   "execution_count": 12,
   "metadata": {
    "collapsed": true
   },
   "outputs": [],
   "source": [
    "test_input = np.array(test_input)"
   ]
  },
  {
   "cell_type": "code",
   "execution_count": 13,
   "metadata": {
    "collapsed": false
   },
   "outputs": [
    {
     "data": {
      "text/plain": [
       "(100, 100, 3)"
      ]
     },
     "execution_count": 13,
     "metadata": {},
     "output_type": "execute_result"
    }
   ],
   "source": [
    "test_input.shape"
   ]
  },
  {
   "cell_type": "code",
   "execution_count": 14,
   "metadata": {
    "collapsed": false
   },
   "outputs": [
    {
     "data": {
      "image/png": "[encoded data removed]",
      "text/plain": [
       "<matplotlib.figure.Figure at 0x1bd805fb160>"
      ]
     },
     "metadata": {},
     "output_type": "display_data"
    },
    {
     "name": "stdout",
     "output_type": "stream",
     "text": [
      "[ 0.  1.]\n"
     ]
    }
   ],
   "source": [
    "plt.imshow(test_input)\n",
    "plt.show()\n",
    "print(test_class)"
   ]
  },
  {
   "cell_type": "code",
   "execution_count": 15,
   "metadata": {
    "collapsed": true
   },
   "outputs": [],
   "source": [
    "from skimage.transform import resize"
   ]
  },
  {
   "cell_type": "code",
   "execution_count": 41,
   "metadata": {
    "collapsed": true
   },
   "outputs": [],
   "source": [
    "image = plt.imread('1.jpg')/255"
   ]
  },
  {
   "cell_type": "code",
   "execution_count": 42,
   "metadata": {
    "collapsed": false
   },
   "outputs": [
    {
     "name": "stderr",
     "output_type": "stream",
     "text": [
      "C:\\Users\\Vancho\\Anaconda\\envs\\tensorflow\\lib\\site-packages\\skimage\\transform\\_warps.py:84: UserWarning: The default mode, 'constant', will be changed to 'reflect' in skimage 0.15.\n",
      "  warn(\"The default mode, 'constant', will be changed to 'reflect' in \"\n"
     ]
    }
   ],
   "source": [
    "image = resize(image,[100,100])"
   ]
  },
  {
   "cell_type": "code",
   "execution_count": 43,
   "metadata": {
    "collapsed": true
   },
   "outputs": [],
   "source": [
    "image = np.expand_dims(image,axis=0)"
   ]
  },
  {
   "cell_type": "code",
   "execution_count": 45,
   "metadata": {
    "collapsed": false
   },
   "outputs": [
    {
     "data": {
      "text/plain": [
       "((1, 100, 100, 3), 0.019764705882320922, 1.0)"
      ]
     },
     "execution_count": 45,
     "metadata": {},
     "output_type": "execute_result"
    }
   ],
   "source": [
    "image.shape, image.min(), image.max()"
   ]
  },
  {
   "cell_type": "code",
   "execution_count": 46,
   "metadata": {
    "collapsed": true
   },
   "outputs": [],
   "source": [
    "result = objNeuralNetwork.Predict(image,roundVector=False)"
   ]
  },
  {
   "cell_type": "code",
   "execution_count": 47,
   "metadata": {
    "collapsed": false
   },
   "outputs": [],
   "source": [
    "result = objNeuralNetwork.Predict(np.expand_dims(test_input,axis=0),roundVector=False)"
   ]
  },
  {
   "cell_type": "code",
   "execution_count": 48,
   "metadata": {
    "collapsed": false
   },
   "outputs": [
    {
     "data": {
      "text/plain": [
       "array([[  1.63665161e-22,   0.00000000e+00,   1.65861179e-11,\n",
       "          1.58960320e-05,   9.99984145e-01]], dtype=float32)"
      ]
     },
     "execution_count": 48,
     "metadata": {},
     "output_type": "execute_result"
    }
   ],
   "source": [
    "result"
   ]
  },
  {
   "cell_type": "code",
   "execution_count": 49,
   "metadata": {
    "collapsed": true
   },
   "outputs": [],
   "source": [
    "maxIndex = np.argmax(result)"
   ]
  },
  {
   "cell_type": "code",
   "execution_count": 50,
   "metadata": {
    "collapsed": false
   },
   "outputs": [
    {
     "data": {
      "text/plain": [
       "4"
      ]
     },
     "execution_count": 50,
     "metadata": {},
     "output_type": "execute_result"
    }
   ],
   "source": [
    "maxIndex"
   ]
  },
  {
   "cell_type": "code",
   "execution_count": 51,
   "metadata": {
    "collapsed": false
   },
   "outputs": [],
   "source": [
    "result = np.rint(result)"
   ]
  },
  {
   "cell_type": "code",
   "execution_count": 52,
   "metadata": {
    "collapsed": false
   },
   "outputs": [
    {
     "data": {
      "text/plain": [
       "array([[ 0.,  0.,  0.,  0.,  1.]], dtype=float32)"
      ]
     },
     "execution_count": 52,
     "metadata": {},
     "output_type": "execute_result"
    }
   ],
   "source": [
    "result"
   ]
  },
  {
   "cell_type": "code",
   "execution_count": 53,
   "metadata": {
    "collapsed": false
   },
   "outputs": [
    {
     "name": "stdout",
     "output_type": "stream",
     "text": [
      "[[ 0.  0.  0.  0.  1.]]\n"
     ]
    }
   ],
   "source": [
    "print(result)"
   ]
  },
  {
   "cell_type": "code",
   "execution_count": null,
   "metadata": {
    "collapsed": true
   },
   "outputs": [],
   "source": []
  }
 ],
 "metadata": {
  "kernelspec": {
   "display_name": "Python 3",
   "language": "python",
   "name": "python3"
  },
  "language_info": {
   "codemirror_mode": {
    "name": "ipython",
    "version": 3
   },
   "file_extension": ".py",
   "mimetype": "text/x-python",
   "name": "python",
   "nbconvert_exporter": "python",
   "pygments_lexer": "ipython3",
   "version": "3.5.3"
  }
 },
 "nbformat": 4,
 "nbformat_minor": 2
}
