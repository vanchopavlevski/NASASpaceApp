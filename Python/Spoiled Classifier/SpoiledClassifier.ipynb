{
 "cells": [
  {
   "cell_type": "code",
   "execution_count": 1,
   "metadata": {
    "collapsed": false
   },
   "outputs": [],
   "source": [
    "import tensorflow as tf\n",
    "import numpy as np\n",
    "import NeuralNetwork\n",
    "import matplotlib.pyplot as plt\n",
    "from skimage.transform import resize\n",
    "import sys\n",
    "import os\n",
    "os.environ['TF_CPP_MIN_LOG_LEVEL'] = '3'"
   ]
  },
  {
   "cell_type": "code",
   "execution_count": 2,
   "metadata": {
    "collapsed": true
   },
   "outputs": [],
   "source": [
    "objSyncFoodClassifier = None"
   ]
  },
  {
   "cell_type": "code",
   "execution_count": 3,
   "metadata": {
    "collapsed": true
   },
   "outputs": [],
   "source": [
    "class SyncFoodClassifier:\n",
    "    def __init__(self):\n",
    "        self.objNeuralNetwork = NeuralNetwork.NeuralNetwork(0.0001)\n",
    "        self.objNeuralNetwork.AddInputLayer(100,100,2)\n",
    "        self.objNeuralNetwork.AddConvolutionLayer('ConvolutionLayer1',5,32,2)\n",
    "        self.objNeuralNetwork.AddConvolutionLayer('ConvolutionLayer2',5,16,2)\n",
    "        self.objNeuralNetwork.AddConvolutionLayer('ConvolutionLayer3',5,8,2)\n",
    "        #objNeuralNetwork.AddConvolutionLayer('ConvolutionLayer3',5,4,2)\n",
    "        self.objNeuralNetwork.AddFlattenLayer('FlattenLayer3')\n",
    "        #objNeuralNetwork.AddDenseLayer('DenseLayer1',2048,1024,tf.nn.relu)\n",
    "        self.objNeuralNetwork.AddDenseLayer('DenseLayer2',648,512,tf.nn.relu)\n",
    "        self.objNeuralNetwork.AddDenseLayer('DenseLayer3',512,128,tf.nn.relu)\n",
    "        self.objNeuralNetwork.AddDenseLayer('DenseLayer4',128,32,tf.nn.relu)\n",
    "        self.objNeuralNetwork.AddDenseLayer('DenseLayer5',32,2,tf.nn.softmax)\n",
    "        self.objNeuralNetwork.CrossEntropy()\n",
    "        self.objNeuralNetwork.Compile('Adam')\n",
    "        self.objNeuralNetwork.LoadModel(\"tmp/model.ckpt\")\n",
    "    \n",
    "    def GetClass(self,imageFilePath,classFilePath):\n",
    "        image = plt.imread(imageFilePath)/255\n",
    "        where_are_NaNs = np.isnan(image)\n",
    "        image[where_are_NaNs] = 0\n",
    "        image = resize(image,(100,100),mode='reflect')\n",
    "        image = np.expand_dims(image,axis=0)\n",
    "        result = self.objNeuralNetwork.Predict(image,roundVector=False)\n",
    "        maxIndex = np.argmax(result)\n",
    "        maxIndex = maxIndex\n",
    "\n",
    "        with open(classFilePath) as f:\n",
    "            content = f.readlines()\n",
    "            content = [x.strip() for x in content] \n",
    "        return content[maxIndex]"
   ]
  },
  {
   "cell_type": "code",
   "execution_count": 5,
   "metadata": {
    "collapsed": false
   },
   "outputs": [],
   "source": [
    "if objSyncFoodClassifier==None:\n",
    "    objSyncFoodClassifier = SyncFoodClassifier()"
   ]
  },
  {
   "cell_type": "code",
   "execution_count": 5,
   "metadata": {
    "collapsed": true
   },
   "outputs": [],
   "source": [
    "test_input = []\n",
    "for i in range(1,len(sys.argv)):\n",
    "    test_input.append(sys.argv[i])\n",
    "\n",
    "filePath = ' '.join(test_input)"
   ]
  },
  {
   "cell_type": "code",
   "execution_count": null,
   "metadata": {
    "collapsed": true
   },
   "outputs": [],
   "source": [
    "#print(filePath)"
   ]
  },
  {
   "cell_type": "code",
   "execution_count": 5,
   "metadata": {
    "collapsed": false
   },
   "outputs": [],
   "source": [
    "result = objSyncFoodClassifier.GetClass(filePath,'Classes.txt')"
   ]
  },
  {
   "cell_type": "code",
   "execution_count": 6,
   "metadata": {
    "collapsed": false
   },
   "outputs": [
    {
     "ename": "NameError",
     "evalue": "name 'result' is not defined",
     "output_type": "error",
     "traceback": [
      "\u001b[1;31m---------------------------------------------------------------------------\u001b[0m",
      "\u001b[1;31mNameError\u001b[0m                                 Traceback (most recent call last)",
      "\u001b[1;32m<ipython-input-6-35147d8b1bd5>\u001b[0m in \u001b[0;36m<module>\u001b[1;34m()\u001b[0m\n\u001b[1;32m----> 1\u001b[1;33m \u001b[0mprint\u001b[0m\u001b[1;33m(\u001b[0m\u001b[0mresult\u001b[0m\u001b[1;33m)\u001b[0m\u001b[1;33m\u001b[0m\u001b[0m\n\u001b[0m",
      "\u001b[1;31mNameError\u001b[0m: name 'result' is not defined"
     ]
    }
   ],
   "source": [
    "print(\"Python: {0}\".format(result))"
   ]
  },
  {
   "cell_type": "code",
   "execution_count": null,
   "metadata": {
    "collapsed": true
   },
   "outputs": [],
   "source": []
  }
 ],
 "metadata": {
  "kernelspec": {
   "display_name": "Python 3",
   "language": "python",
   "name": "python3"
  },
  "language_info": {
   "codemirror_mode": {
    "name": "ipython",
    "version": 3
   },
   "file_extension": ".py",
   "mimetype": "text/x-python",
   "name": "python",
   "nbconvert_exporter": "python",
   "pygments_lexer": "ipython3",
   "version": "3.5.3"
  }
 },
 "nbformat": 4,
 "nbformat_minor": 2
}
